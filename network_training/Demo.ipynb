{
 "cells": [
  {
   "cell_type": "code",
   "execution_count": 9,
   "id": "7a2d0a4a",
   "metadata": {},
   "outputs": [],
   "source": [
    "import numpy as np\n",
    "import tensorflow as tf\n",
    "from tensorflow import keras\n",
    "from tensorflow.keras import layers\n",
    "import sklearn.model_selection as sk\n",
    "from random import randint\n",
    "from sklearn.preprocessing import MinMaxScaler\n",
    "from sklearn.utils import shuffle\n",
    "\n",
    "\n",
    "import keras\n",
    "from keras import backend as K\n",
    "from keras.models import Sequential\n",
    "from keras.layers import Activation\n",
    "from keras.layers.core import Dense\n",
    "from tensorflow.keras.optimizers import Adam\n",
    "from keras.metrics import categorical_crossentropy"
   ]
  },
  {
   "cell_type": "code",
   "execution_count": 5,
   "id": "deca214a",
   "metadata": {},
   "outputs": [],
   "source": [
    "#READ DATA FROM CSV + PADDING/TRUNCATING TO 15\n",
    "\n",
    "import numpy as np\n",
    "\n",
    "def read_csv(filename):\n",
    "    file = open(filename)\n",
    "\n",
    "    lines = file.readline() # Consumes CSV header\n",
    "    lines = file.readline()\n",
    "    lines_list = lines.split(\",\")\n",
    "    batch = lines_list[0]\n",
    "    \n",
    "    raw_inputs = [[], [], []] # For acceleromter readings xyz wrist and xyz arm\n",
    "\n",
    "    label_list = []\n",
    "    label = 0\n",
    "    \n",
    "    total_inputs = []\n",
    "\n",
    "    try:\n",
    "        while lines:\n",
    "            lines_list = lines.split(\",\")\n",
    "            \n",
    "            if batch != lines_list[0]:\n",
    "                previous_batch = batch\n",
    "                batch = lines_list[0]\n",
    "                \n",
    "                total_inputs.append(raw_inputs)\n",
    "                label_list.append(int(label))\n",
    "                label = 0\n",
    "\n",
    "\n",
    "                raw_inputs = [[], [], []] \n",
    "                raw_inputs[0].append(np.int8(lines_list[5]))\n",
    "                raw_inputs[1].append(np.int8(lines_list[6]))\n",
    "                raw_inputs[2].append(np.int8(lines_list[7]))\n",
    "#                 print(np.int8(lines_list[7]), lines_list[7])\n",
    "\n",
    "                \n",
    "            else:\n",
    "                label = lines_list[21]\n",
    "                raw_inputs[0].append(np.int8(lines_list[5]))\n",
    "                raw_inputs[1].append(np.int8(lines_list[6]))\n",
    "                raw_inputs[2].append(np.int8(lines_list[7]))\n",
    "\n",
    "              \n",
    "                \n",
    "            lines = file.readline()\n",
    "    except IndexError:\n",
    "        print(batch)\n",
    "        \n",
    "    return total_inputs, label_list\n",
    "\n",
    "\n"
   ]
  },
  {
   "cell_type": "code",
   "execution_count": 6,
   "id": "4f92ff69",
   "metadata": {},
   "outputs": [],
   "source": [
    "a, lable_list = read_csv('updated.csv')\n",
    "\n",
    "\n"
   ]
  },
  {
   "cell_type": "code",
   "execution_count": 7,
   "id": "7eef4178",
   "metadata": {},
   "outputs": [],
   "source": [
    "combined_samples = []\n",
    "container = []\n",
    "for i in range(len(a)):\n",
    "    for j in range(len(a[0])):\n",
    "        container.extend(a[i][j])\n",
    "    combined_samples.append(container)\n",
    "    container = []\n"
   ]
  },
  {
   "cell_type": "code",
   "execution_count": 10,
   "id": "658ba2fc",
   "metadata": {},
   "outputs": [
    {
     "name": "stdout",
     "output_type": "stream",
     "text": [
      "(1330, 300)\n"
     ]
    }
   ],
   "source": [
    "combined_samples = np.array(combined_samples)\n",
    "lable_list = np.array(lable_list)\n",
    "\n",
    "combined_samples, lable_list = shuffle(combined_samples, lable_list)\n",
    "\n",
    "# scaler = MinMaxScaler(feature_range=(0,1))\n",
    "# combined_samples_one_column = combined_samples.reshape([-1,1])\n",
    "\n",
    "\n",
    "\n",
    "\n",
    "# result_one_column = scaler.fit_transform(combined_samples_one_column)\n",
    "# scaled_samples = result_one_column.reshape(combined_samples.shape)\n",
    "\n",
    "\n",
    "scaled_samples = combined_samples\n",
    "\n",
    "print(scaled_samples.shape)\n",
    "\n"
   ]
  },
  {
   "cell_type": "code",
   "execution_count": 12,
   "id": "08ce8032",
   "metadata": {},
   "outputs": [
    {
     "name": "stdout",
     "output_type": "stream",
     "text": [
      "<class 'numpy.int8'>\n"
     ]
    }
   ],
   "source": [
    "print(type(combined_samples[0][0]))"
   ]
  },
  {
   "cell_type": "code",
   "execution_count": 11,
   "id": "bc503771",
   "metadata": {},
   "outputs": [],
   "source": [
    "X_train, X_test, y_train, y_test = sk.train_test_split(combined_samples, lable_list, test_size=0.33)\n"
   ]
  },
  {
   "cell_type": "code",
   "execution_count": 9,
   "id": "8a29573b",
   "metadata": {},
   "outputs": [],
   "source": [
    "inputs = keras.Input(shape=(300,), dtype=tf.int8)\n",
    "layer_1 = layers.Dense(64, activation=\"relu\")\n",
    "layer_1_output = layer_1(inputs) \n",
    "\n",
    "layer_2 = layers.Dense(64, activation=\"relu\")\n",
    "layer_2_output = layer_2(layer_1_output) \n",
    "\n",
    "outputs = layers.Dense(5, activation=\"softmax\")(layer_2_output)"
   ]
  },
  {
   "cell_type": "code",
   "execution_count": 10,
   "id": "363f6bb1",
   "metadata": {},
   "outputs": [
    {
     "name": "stdout",
     "output_type": "stream",
     "text": [
      "Model: \"mnist_model\"\n",
      "_________________________________________________________________\n",
      "Layer (type)                 Output Shape              Param #   \n",
      "=================================================================\n",
      "input_1 (InputLayer)         [(None, 300)]             0         \n",
      "_________________________________________________________________\n",
      "dense (Dense)                (None, 64)                19264     \n",
      "_________________________________________________________________\n",
      "dense_1 (Dense)              (None, 64)                4160      \n",
      "_________________________________________________________________\n",
      "dense_2 (Dense)              (None, 5)                 325       \n",
      "=================================================================\n",
      "Total params: 23,749\n",
      "Trainable params: 23,749\n",
      "Non-trainable params: 0\n",
      "_________________________________________________________________\n"
     ]
    }
   ],
   "source": [
    "model = keras.Model(inputs=inputs, outputs=outputs, name=\"mnist_model\")\n",
    "model.summary()\n",
    "model.compile(\n",
    "    loss=keras.losses.SparseCategoricalCrossentropy(from_logits=False),\n",
    "    optimizer=tf.keras.optimizers.Adam(learning_rate=0.001),\n",
    "    metrics=[\"accuracy\"],\n",
    ")\n",
    "\n"
   ]
  },
  {
   "cell_type": "code",
   "execution_count": 4,
   "id": "ef063a27",
   "metadata": {},
   "outputs": [
    {
     "data": {
      "image/png": "[encoded data removed]",
      "text/plain": [
       "<IPython.core.display.Image object>"
      ]
     },
     "execution_count": 4,
     "metadata": {},
     "output_type": "execute_result"
    }
   ],
   "source": [
    "# from keras.utils.vis_utils import plot_model\n",
    "tf.keras.utils.plot_model(model, to_file='Model1.png', show_shapes=True)\n",
    "# from IPython.display import Image\n",
    "# Image(retina=True, filename='Model1.png')\n"
   ]
  },
  {
   "cell_type": "code",
   "execution_count": 9,
   "id": "aea437fc",
   "metadata": {},
   "outputs": [
    {
     "name": "stdout",
     "output_type": "stream",
     "text": [
      "23749\n"
     ]
    }
   ],
   "source": [
    "import keras.backend as K\n",
    "\n",
    "def size(model): # Compute number of params in a model (the actual number of floats)\n",
    "    return sum([np.prod(K.get_value(w).shape) for w in model.trainable_weights])\n",
    "\n",
    "print(size(model))\n"
   ]
  },
  {
   "cell_type": "code",
   "execution_count": 14,
   "id": "e93fe8b9",
   "metadata": {},
   "outputs": [
    {
     "name": "stdout",
     "output_type": "stream",
     "text": [
      "Epoch 1/5\n",
      "81/81 - 0s - loss: 4.7009e-07 - accuracy: 1.0000 - val_loss: 0.6507 - val_accuracy: 0.9889\n",
      "Epoch 2/5\n",
      "81/81 - 0s - loss: 4.3572e-07 - accuracy: 1.0000 - val_loss: 0.6507 - val_accuracy: 0.9889\n",
      "Epoch 3/5\n",
      "81/81 - 0s - loss: 4.0790e-07 - accuracy: 1.0000 - val_loss: 0.6507 - val_accuracy: 0.9889\n",
      "Epoch 4/5\n",
      "81/81 - 0s - loss: 3.8468e-07 - accuracy: 1.0000 - val_loss: 0.6507 - val_accuracy: 0.9889\n",
      "Epoch 5/5\n",
      "81/81 - 0s - loss: 3.5165e-07 - accuracy: 1.0000 - val_loss: 0.6507 - val_accuracy: 0.9889\n"
     ]
    },
    {
     "data": {
      "text/plain": [
       "<keras.callbacks.History at 0x1e1fe7fe460>"
      ]
     },
     "execution_count": 14,
     "metadata": {},
     "output_type": "execute_result"
    }
   ],
   "source": [
    "model.fit(X_train, y_train, validation_split=0.1, batch_size=10, epochs=5, shuffle=True, verbose=2)"
   ]
  },
  {
   "cell_type": "code",
   "execution_count": null,
   "id": "58137750",
   "metadata": {},
   "outputs": [],
   "source": [
    "X_test = scaled_samples\n",
    "y_test = lable_list\n",
    "print(type(X_test[0][0]))"
   ]
  },
  {
   "cell_type": "code",
   "execution_count": 8,
   "id": "fe3f4e00",
   "metadata": {},
   "outputs": [
    {
     "name": "stdout",
     "output_type": "stream",
     "text": [
      "14/14 - 1s - loss: 0.1154 - accuracy: 0.9909\n",
      "Test loss: 0.11537133902311325\n",
      "Test accuracy: 0.9908883571624756\n"
     ]
    }
   ],
   "source": [
    "\n",
    "\n",
    "test_scores = model.evaluate(X_test, y_test, verbose=2)\n",
    "print(\"Test loss:\", test_scores[0])\n",
    "print(\"Test accuracy:\", test_scores[1])"
   ]
  },
  {
   "cell_type": "code",
   "execution_count": 21,
   "id": "13a6dac5",
   "metadata": {},
   "outputs": [
    {
     "name": "stdout",
     "output_type": "stream",
     "text": [
      "[[274   0   4   2   0]\n",
      " [  0 362   0   0   0]\n",
      " [  0   0 243   1   0]\n",
      " [  1   0   0 320   0]\n",
      " [  0   0   0   0 123]]\n"
     ]
    }
   ],
   "source": [
    "from sklearn.metrics import confusion_matrix\n",
    "\n",
    "cm=confusion_matrix(y_true=lable_list, y_pred=output_label)\n",
    "print(cm)"
   ]
  },
  {
   "cell_type": "code",
   "execution_count": 20,
   "id": "189f0b75",
   "metadata": {},
   "outputs": [
    {
     "name": "stdout",
     "output_type": "stream",
     "text": [
      "[[274   0   4   2   0]\n",
      " [  0 362   0   0   0]\n",
      " [  0   0 243   1   0]\n",
      " [  1   0   0 320   0]\n",
      " [  0   0   0   0 123]]\n"
     ]
    }
   ],
   "source": [
    "output_label = []\n",
    "\n",
    "for i in range(len(scaled_samples)):\n",
    "    q = model.predict(np.array([scaled_samples[i]]))\n",
    "    output_label.append(int(np.argmax(q)))\n"
   ]
  },
  {
   "cell_type": "code",
   "execution_count": 7,
   "id": "d65f006c",
   "metadata": {},
   "outputs": [],
   "source": [
    "# q = model.predict(test_data[0][None,...])\n",
    "\n",
    "# model.save('two_layers.h5')\n",
    "from keras.models import load_model\n",
    "\n",
    "model = load_model('two_layers.h5')"
   ]
  },
  {
   "cell_type": "code",
   "execution_count": 13,
   "id": "d310063d",
   "metadata": {},
   "outputs": [
    {
     "name": "stdout",
     "output_type": "stream",
     "text": [
      "Model: \"mnist_model\"\n",
      "_________________________________________________________________\n",
      "Layer (type)                 Output Shape              Param #   \n",
      "=================================================================\n",
      "input_2 (InputLayer)         [(None, 300)]             0         \n",
      "_________________________________________________________________\n",
      "dense_4 (Dense)              (None, 64)                19264     \n",
      "_________________________________________________________________\n",
      "dense_5 (Dense)              (None, 64)                4160      \n",
      "_________________________________________________________________\n",
      "dense_6 (Dense)              (None, 5)                 325       \n",
      "=================================================================\n",
      "Total params: 23,749\n",
      "Trainable params: 23,749\n",
      "Non-trainable params: 0\n",
      "_________________________________________________________________\n",
      "{'batch_input_shape': (None, 300), 'dtype': 'int8', 'sparse': False, 'ragged': False, 'name': 'input_2'}\n",
      "{'name': 'dense_4', 'trainable': True, 'dtype': 'float32', 'units': 64, 'activation': 'relu', 'use_bias': True, 'kernel_initializer': {'class_name': 'GlorotUniform', 'config': {'seed': None}}, 'bias_initializer': {'class_name': 'Zeros', 'config': {}}, 'kernel_regularizer': None, 'bias_regularizer': None, 'activity_regularizer': None, 'kernel_constraint': None, 'bias_constraint': None}\n",
      "{'name': 'dense_5', 'trainable': True, 'dtype': 'float32', 'units': 64, 'activation': 'relu', 'use_bias': True, 'kernel_initializer': {'class_name': 'GlorotUniform', 'config': {'seed': None}}, 'bias_initializer': {'class_name': 'Zeros', 'config': {}}, 'kernel_regularizer': None, 'bias_regularizer': None, 'activity_regularizer': None, 'kernel_constraint': None, 'bias_constraint': None}\n",
      "{'name': 'dense_6', 'trainable': True, 'dtype': 'float32', 'units': 5, 'activation': 'softmax', 'use_bias': True, 'kernel_initializer': {'class_name': 'GlorotUniform', 'config': {'seed': None}}, 'bias_initializer': {'class_name': 'Zeros', 'config': {}}, 'kernel_regularizer': None, 'bias_regularizer': None, 'activity_regularizer': None, 'kernel_constraint': None, 'bias_constraint': None}\n"
     ]
    }
   ],
   "source": [
    "model.summary()\n",
    "\n",
    "for layer in model.layers:\n",
    "  print(layer.get_config())\n",
    "\n",
    "# for layer in model.layers:\n",
    "#   print(layer.get_weights()) 818 762 202 10\n"
   ]
  },
  {
   "cell_type": "code",
   "execution_count": 58,
   "id": "0fe100e2",
   "metadata": {},
   "outputs": [
    {
     "name": "stdout",
     "output_type": "stream",
     "text": [
      "[[0. 0. 0. 0. 1.]]\n",
      "list[array([ -38,  -50,  -58,  -82, -104, -121, -128, -128, -128, -128, -128,\n",
      "       -128, -128, -128, -128, -128, -128, -128, -128, -128, -128, -128,\n",
      "       -128, -128,  -88,  -62,  -46,  -49,  -58,  -61,  -65,  -64,  -60,\n",
      "        -63,  -68,  -75,  -78,  -82,  -86,  -90,  -93,  -96,  -96,  -93,\n",
      "        -89,  -86,  -84,  -81,  -76,  -73,  -70,  -64,  -58,  -56,  -51,\n",
      "        -48,  -47,  -43,  -39,  -36,  -36,  -36,  -38,  -35,  -30,  -28,\n",
      "        -28,  -26,  -24,  -23,  -23,  -23,  -21,  -19,  -19,  -19,  -20,\n",
      "        -22,  -25,  -30,  -34,  -37,  -38,  -43,  -47,  -54,  -59,  -72,\n",
      "        -88,  -88,  -88,  -87,  -95, -105, -121, -128, -128, -128, -128,\n",
      "       -128,  -56, -117, -128, -128, -128, -128, -128, -128, -128, -117,\n",
      "        -86,  -52,  -16,   13,   28,   58,   89,  108,  127,  127,  127,\n",
      "        127,  127,  127,  127,  127,  127,  127,  127,  127,  127,  127,\n",
      "        117,  111,  116,  124,  125,  122,  119,  113,  111,  109,  106,\n",
      "         99,   93,   88,   82,   79,   79,   72,   61,   51,   47,   44,\n",
      "         39,   33,   26,   22,   18,   14,   11,   10,    7,    4,    1,\n",
      "         -2,   -8,  -12,  -15,  -19,  -22,  -25,  -27,  -30,  -30,  -33,\n",
      "        -35,  -37,  -39,  -41,  -46,  -54,  -61,  -87, -106, -122, -125,\n",
      "       -114,  -82,  -70,  -69,  -67,  -59,  -47,  -37,  -23,    4,   20,\n",
      "         33,   54,   49,   54,   62,   66,   69,   71,   70,   65,   53,\n",
      "         38,   21,    8,   -5,  -20,  -33,  -38,  -44,  -46,  -38,  -38,\n",
      "        -58,  -75,  -78,  -50,  -37,  -23,  -15,   -6,    6,   12,   10,\n",
      "          9,   14,   22,   27,   29,   32,   31,   26,   24,   22,   22,\n",
      "         20,   19,   18,   17,   15,   15,   12,   12,   14,   15,   17,\n",
      "         19,   20,   22,   24,   26,   27,   26,   27,   27,   29,   31,\n",
      "         33,   35,   38,   39,   40,   42,   44,   46,   48,   48,   48,\n",
      "         46,   45,   45,   45,   46,   44,   44,   43,   39,   39,   43,\n",
      "         46,   50,   58,   62,   61,   49,   38,   27,   17,    6,   -1,\n",
      "         -4,    0,    5], dtype=int8)]\n",
      "4\n"
     ]
    }
   ],
   "source": [
    "sample_num = 10\n",
    "\n",
    "test_sam = scaled_samples[sample_num]    #  75 76 80 78 10 \n",
    "test_label = lable_list[sample_num]\n",
    "\n",
    "q = model.predict(np.array([test_sam]))\n",
    "print(q)\n",
    "\n",
    "print(list[test_sam])\n",
    "\n",
    "print(test_label)\n"
   ]
  },
  {
   "cell_type": "code",
   "execution_count": 61,
   "id": "c590950f",
   "metadata": {},
   "outputs": [
    {
     "name": "stdout",
     "output_type": "stream",
     "text": [
      "2\n",
      "76\n",
      "81\n",
      "145\n",
      "202\n",
      "347\n",
      "558\n",
      "748\n",
      "762\n",
      "823\n",
      "855\n",
      "953\n",
      "1004\n",
      "1015\n",
      "1149\n",
      "1157\n",
      "1188\n",
      "1190\n",
      "1277\n",
      "1318\n"
     ]
    }
   ],
   "source": [
    "sample_num = 84\n",
    "\n",
    "\n",
    "for i in range(len(scaled_samples)):\n",
    "    test_sam = scaled_samples[i]    #  75 76 80 78   47     818 762 202 10\n",
    "    test_label = lable_list[i]\n",
    "\n",
    "    q = model.predict(np.array([test_sam]))\n",
    "#     print(int(np.argmax(q)), i)\n",
    "      \n",
    "    if q[0][int(np.argmax(q))] < 1:\n",
    "        print(i)\n",
    "#     if int(np.argmax(q)) != test_label:\n",
    "#         print(f\"WRONG {i}\")\n",
    "\n",
    "\n",
    "        \n",
    "        \n",
    "# WRONG 202\n",
    "# WRONG 762\n",
    "# WRONG 818\n",
    "# WRONG 823\n",
    "# WRONG 1149\n",
    "# WRONG 1157\n",
    "# WRONG 1188\n",
    "# WRONG 1192\n",
    "\n",
    "\n",
    "# 2\n",
    "# 76\n",
    "# 81\n",
    "# 145\n",
    "# 202    1\n",
    "# 347\n",
    "# 558\n",
    "# 748\n",
    "# 762    1\n",
    "# 823    1\n",
    "# 855\n",
    "# 953\n",
    "# 1004\n",
    "# 1015\n",
    "# 1149    1\n",
    "# 1157     1\n",
    "# 1188     1\n",
    "# 1190\n",
    "# 1277\n",
    "# 1318"
   ]
  },
  {
   "cell_type": "code",
   "execution_count": 94,
   "id": "abdee0b3",
   "metadata": {},
   "outputs": [
    {
     "name": "stdout",
     "output_type": "stream",
     "text": [
      "[-6.676661611811975, 190.77872379444665, -88.94199811314171, -90.74696566204754, -88.82365704588324]\n"
     ]
    }
   ],
   "source": [
    "max_int = 0\n",
    "min_int = 0\n",
    "\n",
    "test_sam = scaled_samples[1278]\n",
    "test_label = lable_list[1278]\n",
    "weights_1 = model.layers[1].get_weights()[0]\n",
    "biases_1 = model.layers[1].get_weights()[1]\n",
    "\n",
    "\n",
    "weights_2 = model.layers[2].get_weights()[0]\n",
    "biases_2  = model.layers[2].get_weights()[1]\n",
    "\n",
    "weights_3 = model.layers[3].get_weights()[0]\n",
    "biases_3  = model.layers[3].get_weights()[1]\n",
    "\n",
    "results = []\n",
    "results_2 = []\n",
    "results_3 = []\n",
    "\n",
    "number_nodes = 64\n",
    "number_inputs = 300\n",
    "output_nodes = 5\n",
    "#     print(len(weights_1))\n",
    "#     print(len(weights_1[0]))\n",
    "\n",
    "sum = 0\n",
    "\n",
    "for i in range(number_nodes):\n",
    "    for j in range(number_inputs):\n",
    "        sum += test_sam[j] * weights_1[j][i]\n",
    "    sum += biases_1[i]\n",
    "    results.append(max(0, sum))\n",
    "    sum = 0\n",
    "\n",
    "sum = 0\n",
    "\n",
    "for i in range(number_nodes):\n",
    "    for j in range(len(results)):\n",
    "        sum += results[j] * weights_2[j][i]\n",
    "    sum += biases_2[i]\n",
    "    results_2.append(max(0, sum))\n",
    "    sum = 0\n",
    "\n",
    "sum = 0\n",
    "\n",
    "for i in range(output_nodes):\n",
    "    for j in range(len(results)):\n",
    "        sum += results_2[j] * weights_3[j][i]\n",
    "    sum += biases_3[i]\n",
    "    results_3.append(sum)\n",
    "    sum = 0\n",
    "# if max(results) > max_int:\n",
    "#     max_int = max(results)\n",
    "# if max(results_2) > max_int:\n",
    "#     max_int = max(results_2)\n",
    "# if max(results_3) > max_int:\n",
    "#     max_int = max(results_3)\n",
    "\n",
    "# if min(results) < min_int:\n",
    "#     min_int = min(results)\n",
    "# if min(results_2) < min_int:\n",
    "#     min_int = min(results_2)\n",
    "# if min(results_3) < min_int:\n",
    "#     min_int = min(results_3)\n",
    "\n",
    "\n",
    "        \n",
    "print(results_3)"
   ]
  },
  {
   "cell_type": "code",
   "execution_count": 85,
   "id": "37e59ef9",
   "metadata": {
    "scrolled": true
   },
   "outputs": [
    {
     "name": "stdout",
     "output_type": "stream",
     "text": [
      "results3 = [-6.676661611811975, 190.77872379444665, -88.94199811314171, -90.74696566204754, -88.82365704588324]\n",
      "[1.76285136e-086 1.00000000e+000 3.30243289e-122 5.43183482e-123\n",
      " 3.71731080e-122]\n",
      "1.0\n",
      "1.0\n"
     ]
    }
   ],
   "source": [
    "# print(\"learned weights =\", weights)\n",
    "\n",
    "# # Biases are similar because they are all initialized with zeros (by default).\n",
    "# print(\"learned biases =\", biases)\n",
    "from numpy  import exp\n",
    "from numpy  import sum\n",
    "\n",
    "def softmax(vector):\n",
    "    e = exp(vector)\n",
    "    return e / e.sum()\n",
    "\n",
    "\n",
    "print(\"results3 =\", results_3)\n",
    "\n",
    "\n",
    "\n",
    "after_activation = softmax(results_3)\n",
    "print(after_activation)\n",
    "print(sum(after_activation))\n",
    "print(sum(q))\n"
   ]
  }
 ],
 "metadata": {
  "kernelspec": {
   "display_name": "Python 3 (ipykernel)",
   "language": "python",
   "name": "python3"
  },
  "language_info": {
   "codemirror_mode": {
    "name": "ipython",
    "version": 3
   },
   "file_extension": ".py",
   "mimetype": "text/x-python",
   "name": "python",
   "nbconvert_exporter": "python",
   "pygments_lexer": "ipython3",
   "version": "3.9.7"
  }
 },
 "nbformat": 4,
 "nbformat_minor": 5
}
